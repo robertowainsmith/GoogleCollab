{
  "nbformat": 4,
  "nbformat_minor": 0,
  "metadata": {
    "colab": {
      "provenance": [],
      "authorship_tag": "ABX9TyNR/6YafLM8WhTsuBLS+vwM",
      "include_colab_link": true
    },
    "kernelspec": {
      "name": "python3",
      "display_name": "Python 3"
    },
    "language_info": {
      "name": "python"
    }
  },
  "cells": [
    {
      "cell_type": "markdown",
      "metadata": {
        "id": "view-in-github",
        "colab_type": "text"
      },
      "source": [
        "<a href=\"https://colab.research.google.com/github/robertowainsmith/GoogleCollab/blob/main/basic_opendrift_simulation.ipynb\" target=\"_parent\"><img src=\"https://colab.research.google.com/assets/colab-badge.svg\" alt=\"Open In Colab\"/></a>"
      ]
    },
    {
      "cell_type": "code",
      "source": [
        "# Notebook to setup OpenDrift (https://opendrift.github.io/) in Google Collab and run a basic simulation\n",
        "# R Smith (robert.smith@otago.ac.nz / https://twitter.com/robowainsmith / https://github.com/robertowainsmith)\n",
        "# Last updated: 29-08-2023"
      ],
      "metadata": {
        "id": "CKQ8oRjtmnap"
      },
      "execution_count": null,
      "outputs": []
    },
    {
      "cell_type": "code",
      "source": [
        "#run this block first ...install conda (manage packages)\n",
        "!pip install -q condacolab\n",
        "import condacolab\n",
        "condacolab.install()"
      ],
      "metadata": {
        "id": "v_VGcssGU7UZ",
        "colab": {
          "base_uri": "https://localhost:8080/"
        },
        "outputId": "1d72358f-ae26-44e7-db39-e60085d5a222"
      },
      "execution_count": 1,
      "outputs": [
        {
          "output_type": "stream",
          "name": "stdout",
          "text": [
            "⏬ Downloading https://github.com/conda-forge/miniforge/releases/download/23.1.0-1/Mambaforge-23.1.0-1-Linux-x86_64.sh...\n",
            "📦 Installing...\n",
            "📌 Adjusting configuration...\n",
            "🩹 Patching environment...\n",
            "⏲ Done in 0:00:11\n",
            "🔁 Restarting kernel...\n"
          ]
        }
      ]
    },
    {
      "cell_type": "code",
      "source": [
        "# wait for kernel to restart, then proceed"
      ],
      "metadata": {
        "id": "nE030pEDeW_T"
      },
      "execution_count": null,
      "outputs": []
    },
    {
      "cell_type": "code",
      "source": [
        "import condacolab\n",
        "\n",
        "#clone the github version of opendrift\n",
        "!git clone https://github.com/OpenDrift/opendrift.git\n",
        "%cd opendrift\n",
        "!mamba env update -n base -f environment.yml\n",
        "!mamba init\n",
        "!mamba activate base\n",
        "!pip install --no-deps -e ."
      ],
      "metadata": {
        "id": "TXLi6T38VpUM",
        "colab": {
          "base_uri": "https://localhost:8080/"
        },
        "outputId": "2b30d317-27d3-4a4e-d5c9-57f65e0011f0"
      },
      "execution_count": 1,
      "outputs": [
        {
          "output_type": "stream",
          "name": "stdout",
          "text": [
            "✨🍰✨ Everything looks OK!\n",
            "Cloning into 'opendrift'...\n",
            "remote: Enumerating objects: 20564, done.\u001b[K\n",
            "remote: Counting objects: 100% (818/818), done.\u001b[K\n",
            "remote: Compressing objects: 100% (326/326), done.\u001b[K\n",
            "remote: Total 20564 (delta 526), reused 694 (delta 485), pack-reused 19746\u001b[K\n",
            "Receiving objects: 100% (20564/20564), 49.49 MiB | 30.60 MiB/s, done.\n",
            "Resolving deltas: 100% (15228/15228), done.\n"
          ]
        }
      ]
    },
    {
      "cell_type": "code",
      "source": [
        "# OpenDrift basic example from https://opendrift.github.io/gallery/example_plot.html\n",
        "\n",
        "from datetime import datetime, timedelta\n",
        "from opendrift.models.oceandrift import OceanDrift\n",
        "\n",
        "o = OceanDrift(loglevel=20)\n",
        "o.add_readers_from_list(\n",
        "    ['https://thredds.met.no/thredds/dodsC/sea/norkyst800m/1h/aggregate_be'])\n",
        "o.disable_vertical_motion()\n",
        "o.seed_elements(lon=4.85, lat=60, time=datetime.now(), number=10000, radius=1000)\n",
        "\n",
        "o.run(duration=timedelta(hours=24))\n",
        "o.animation(filename='animation.mp4')"
      ],
      "metadata": {
        "colab": {
          "base_uri": "https://localhost:8080/"
        },
        "id": "RuwqvbwvZzsQ",
        "outputId": "fea4be6a-32ed-473a-e60c-f1b5ebec824d"
      },
      "execution_count": 10,
      "outputs": [
        {
          "output_type": "stream",
          "name": "stderr",
          "text": [
            "04:36:23 INFO    opendrift.models.basemodel:539: OpenDriftSimulation initialised (version 1.10.7 / v1.10.6-113-g47c589e)\n",
            "04:36:23 INFO    opendrift.models.oceandrift:336: Setting config: drift:vertical_advection -> False\n",
            "04:36:23 INFO    opendrift.models.oceandrift:336: Setting config: drift:vertical_mixing -> False\n",
            "04:36:23 INFO    opendrift.models.basemodel:2591: Fallback values will be used for the following variables which have no readers: \n",
            "04:36:23 INFO    opendrift.models.basemodel:2594: \tx_sea_water_velocity: 0.000000\n",
            "04:36:23 INFO    opendrift.models.basemodel:2594: \ty_sea_water_velocity: 0.000000\n",
            "04:36:23 INFO    opendrift.models.basemodel:2594: \tx_wind: 0.000000\n",
            "04:36:23 INFO    opendrift.models.basemodel:2594: \ty_wind: 0.000000\n",
            "04:36:23 INFO    opendrift.models.basemodel:2594: \tupward_sea_water_velocity: 0.000000\n",
            "04:36:23 INFO    opendrift.models.basemodel:2594: \tocean_vertical_diffusivity: 0.000000\n",
            "04:36:23 INFO    opendrift.models.basemodel:2594: \tsea_surface_wave_significant_height: 0.000000\n",
            "04:36:23 INFO    opendrift.models.basemodel:2594: \tsea_surface_wave_stokes_drift_x_velocity: 0.000000\n",
            "04:36:23 INFO    opendrift.models.basemodel:2594: \tsea_surface_wave_stokes_drift_y_velocity: 0.000000\n",
            "04:36:23 INFO    opendrift.models.basemodel:2594: \tsea_surface_wave_period_at_variance_spectral_density_maximum: 0.000000\n",
            "04:36:23 INFO    opendrift.models.basemodel:2594: \tsea_surface_wave_mean_period_from_variance_spectral_density_second_frequency_moment: 0.000000\n",
            "04:36:23 INFO    opendrift.models.basemodel:2594: \tsurface_downward_x_stress: 0.000000\n",
            "04:36:23 INFO    opendrift.models.basemodel:2594: \tsurface_downward_y_stress: 0.000000\n",
            "04:36:23 INFO    opendrift.models.basemodel:2594: \tturbulent_kinetic_energy: 0.000000\n",
            "04:36:23 INFO    opendrift.models.basemodel:2594: \tturbulent_generic_length_scale: 0.000000\n",
            "04:36:23 INFO    opendrift.models.basemodel:2594: \tocean_mixed_layer_thickness: 50.000000\n",
            "04:36:24 INFO    opendrift.models.basemodel:2594: \tsea_floor_depth_below_sea_level: 10000.000000\n",
            "04:36:24 INFO    opendrift.models.basemodel:2753: Adding a dynamical landmask with max. priority based on assumed maximum speed of 1 m/s. Adding a customised landmask may be faster...\n",
            "04:36:24 INFO    opendrift.models.basemodel:1701: Using existing reader for land_binary_mask\n",
            "04:36:24 INFO    opendrift.models.basemodel:1713: All points are in ocean\n",
            "04:36:24 INFO    opendrift.models.basemodel:2882: 2023-08-29 04:36:23.947301 - step 1 of 24 - 10000 active elements (0 deactivated)\n",
            "04:36:24 INFO    opendrift.readers.reader_netCDF_CF_generic:92: Opening dataset: https://thredds.met.no/thredds/dodsC/sea/norkyst800m/1h/aggregate_be\n",
            "04:36:27 INFO    opendrift.models.basemodel:2882: 2023-08-29 05:36:23.947301 - step 2 of 24 - 10000 active elements (0 deactivated)\n",
            "04:36:28 INFO    opendrift.models.basemodel:2882: 2023-08-29 06:36:23.947301 - step 3 of 24 - 10000 active elements (0 deactivated)\n",
            "04:36:30 INFO    opendrift.models.basemodel:2882: 2023-08-29 07:36:23.947301 - step 4 of 24 - 10000 active elements (0 deactivated)\n",
            "04:36:31 INFO    opendrift.models.basemodel:2882: 2023-08-29 08:36:23.947301 - step 5 of 24 - 10000 active elements (0 deactivated)\n",
            "04:36:32 INFO    opendrift.models.basemodel:2882: 2023-08-29 09:36:23.947301 - step 6 of 24 - 10000 active elements (0 deactivated)\n",
            "04:36:33 INFO    opendrift.models.basemodel:2882: 2023-08-29 10:36:23.947301 - step 7 of 24 - 10000 active elements (0 deactivated)\n",
            "04:36:34 INFO    opendrift.models.basemodel:2882: 2023-08-29 11:36:23.947301 - step 8 of 24 - 10000 active elements (0 deactivated)\n",
            "04:36:35 INFO    opendrift.models.basemodel:2882: 2023-08-29 12:36:23.947301 - step 9 of 24 - 10000 active elements (0 deactivated)\n",
            "04:36:36 INFO    opendrift.models.basemodel:2882: 2023-08-29 13:36:23.947301 - step 10 of 24 - 10000 active elements (0 deactivated)\n",
            "04:36:37 INFO    opendrift.models.basemodel:2882: 2023-08-29 14:36:23.947301 - step 11 of 24 - 10000 active elements (0 deactivated)\n",
            "04:36:38 INFO    opendrift.models.basemodel:2882: 2023-08-29 15:36:23.947301 - step 12 of 24 - 10000 active elements (0 deactivated)\n",
            "04:36:39 INFO    opendrift.models.basemodel:2882: 2023-08-29 16:36:23.947301 - step 13 of 24 - 10000 active elements (0 deactivated)\n",
            "04:36:40 INFO    opendrift.models.basemodel:2882: 2023-08-29 17:36:23.947301 - step 14 of 24 - 10000 active elements (0 deactivated)\n",
            "04:36:41 INFO    opendrift.models.basemodel:2882: 2023-08-29 18:36:23.947301 - step 15 of 24 - 10000 active elements (0 deactivated)\n",
            "04:36:43 INFO    opendrift.models.basemodel:2882: 2023-08-29 19:36:23.947301 - step 16 of 24 - 10000 active elements (0 deactivated)\n",
            "04:36:43 INFO    opendrift.models.basemodel:2882: 2023-08-29 20:36:23.947301 - step 17 of 24 - 10000 active elements (0 deactivated)\n",
            "04:36:44 INFO    opendrift.models.basemodel:2882: 2023-08-29 21:36:23.947301 - step 18 of 24 - 10000 active elements (0 deactivated)\n",
            "04:36:45 INFO    opendrift.models.basemodel:2882: 2023-08-29 22:36:23.947301 - step 19 of 24 - 10000 active elements (0 deactivated)\n",
            "04:36:46 INFO    opendrift.models.basemodel:2882: 2023-08-29 23:36:23.947301 - step 20 of 24 - 10000 active elements (0 deactivated)\n",
            "04:36:47 INFO    opendrift.models.basemodel:2882: 2023-08-30 00:36:23.947301 - step 21 of 24 - 10000 active elements (0 deactivated)\n",
            "04:36:48 INFO    opendrift.models.basemodel:2882: 2023-08-30 01:36:23.947301 - step 22 of 24 - 10000 active elements (0 deactivated)\n",
            "04:36:49 INFO    opendrift.models.basemodel:2882: 2023-08-30 02:36:23.947301 - step 23 of 24 - 10000 active elements (0 deactivated)\n",
            "04:36:50 INFO    opendrift.models.basemodel:2882: 2023-08-30 03:36:23.947301 - step 24 of 24 - 10000 active elements (0 deactivated)\n",
            "04:36:56 INFO    opendrift.models.basemodel:5350: Saving animation to animation.mp4...\n",
            "04:38:28 INFO    opendrift.models.basemodel:3848: Time to make animation: 0:01:36.797811\n"
          ]
        }
      ]
    }
  ]
}