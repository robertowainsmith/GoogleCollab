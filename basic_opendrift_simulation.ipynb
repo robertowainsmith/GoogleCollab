{
  "nbformat": 4,
  "nbformat_minor": 0,
  "metadata": {
    "colab": {
      "provenance": [],
      "authorship_tag": "ABX9TyPQcDbrVMpTinzzIcqk6Cjk",
      "include_colab_link": true
    },
    "kernelspec": {
      "name": "python3",
      "display_name": "Python 3"
    },
    "language_info": {
      "name": "python"
    }
  },
  "cells": [
    {
      "cell_type": "markdown",
      "metadata": {
        "id": "view-in-github",
        "colab_type": "text"
      },
      "source": [
        "<a href=\"https://colab.research.google.com/github/robertowainsmith/GoogleCollab/blob/main/basic_opendrift_simulation.ipynb\" target=\"_parent\"><img src=\"https://colab.research.google.com/assets/colab-badge.svg\" alt=\"Open In Colab\"/></a>"
      ]
    },
    {
      "cell_type": "code",
      "source": [
        "# Notebook to setup OpenDrift (https://opendrift.github.io/) in Google Collab and run a basic simulation\n",
        "#\n",
        "# R Smith (robert.smith@otago.ac.nz / https://twitter.com/robowainsmith / https://github.com/robertowainsmith)\n",
        "# Last updated: 29-08-2023"
      ],
      "metadata": {
        "id": "CKQ8oRjtmnap"
      },
      "execution_count": null,
      "outputs": []
    },
    {
      "cell_type": "code",
      "source": [
        "#Install conda colab\n",
        "!pip install -q condacolab\n",
        "import condacolab\n",
        "condacolab.install()\n",
        "# (wait for kernel to restart, then proceed)"
      ],
      "metadata": {
        "id": "v_VGcssGU7UZ"
      },
      "execution_count": null,
      "outputs": []
    },
    {
      "cell_type": "code",
      "source": [
        "#clone the github version of opendrift\n",
        "import condacolab\n",
        "!git clone https://github.com/OpenDrift/opendrift.git\n",
        "%cd opendrift\n",
        "!mamba env update -n base -f environment.yml\n",
        "!mamba init\n",
        "!mamba activate base\n",
        "!pip install --no-deps -e ."
      ],
      "metadata": {
        "id": "TXLi6T38VpUM"
      },
      "execution_count": null,
      "outputs": []
    },
    {
      "cell_type": "code",
      "source": [
        "# OpenDrift basic example from https://opendrift.github.io/gallery/example_plot.html\n",
        "\n",
        "from datetime import datetime, timedelta\n",
        "from opendrift.models.oceandrift import OceanDrift\n",
        "\n",
        "o = OceanDrift(loglevel=20)\n",
        "o.add_readers_from_list(\n",
        "    ['https://thredds.met.no/thredds/dodsC/sea/norkyst800m/1h/aggregate_be'])\n",
        "o.disable_vertical_motion()\n",
        "o.seed_elements(lon=4.85, lat=60, time=datetime.now(), number=1000, radius=10000)\n",
        "\n",
        "o.run(duration=timedelta(hours=24))\n",
        "o.animation(filename='animation.mp4')\n",
        "o.plot(filename='plot.png')"
      ],
      "metadata": {
        "id": "RuwqvbwvZzsQ"
      },
      "execution_count": null,
      "outputs": []
    }
  ]
}